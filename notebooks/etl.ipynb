{
 "cells": [
  {
   "cell_type": "code",
   "execution_count": 24,
   "metadata": {},
   "outputs": [],
   "source": [
    "from bs4 import BeautifulSoup\n",
    "import requests\n",
    "import string\n",
    "import pandas as pd"
   ]
  },
  {
   "cell_type": "code",
   "execution_count": 25,
   "metadata": {},
   "outputs": [],
   "source": [
    "candidates_2017 = \"https://info.kingcounty.gov/kcelections/Vote/contests/candidates.aspx?eid=9\"\n",
    "listOfRaces = [candidates_2017, ]"
   ]
  },
  {
   "cell_type": "code",
   "execution_count": 32,
   "metadata": {},
   "outputs": [],
   "source": [
    "def stripPunc(s):\n",
    "    if s is not None:\n",
    "        table = str.maketrans({key: None for key in string.punctuation})\n",
    "        return s.translate(table)\n",
    "    else:\n",
    "        return s"
   ]
  },
  {
   "cell_type": "code",
   "execution_count": 27,
   "metadata": {},
   "outputs": [],
   "source": [
    "def extractCandidateInfo(c):\n",
    "    info = c.find('span', {'class': 'ballotname'})\n",
    "    name = info.text\n",
    "    cid = info[\"id\"]\n",
    "    \n",
    "    link = c.find('a', {'class': 'candidate-anchor'})[\"href\"]\n",
    "    html = getattr(requests.get(link), 'content', None)\n",
    "    if html is not None:\n",
    "        soup = BeautifulSoup(html, 'html.parser')\n",
    "        content = ' '.join([getattr(x, 'text', None) for x in soup.findAll('p')]).strip()\n",
    "    \n",
    "    party = getattr(c.find('span', {'class': 'candidateparty'}), 'text', None)\n",
    "    \n",
    "    return dict(candidate_name = name, \n",
    "                candidate_id = cid, \n",
    "                candidate_party = party,\n",
    "                candidate_url = link,\n",
    "                candidate_info = content)"
   ]
  },
  {
   "cell_type": "code",
   "execution_count": 33,
   "metadata": {},
   "outputs": [],
   "source": [
    "def extractAllCandidates(soup):\n",
    "    \n",
    "    data = []\n",
    "    \n",
    "    district = stripPunc(getattr(soup.find('span', {'class': 'sp-bt-title-1'}), 'text', None))\n",
    "    race = stripPunc(getattr(soup.find('span', {'class': 'sp-bt-title-2'}), 'text', None))\n",
    "    \n",
    "    candidates = soup.findAll('li', {'class': 'li-candidate'})\n",
    "    \n",
    "    for c in candidates:\n",
    "        candidate = extractCandidateInfo(c)\n",
    "        candidate['district'] = district\n",
    "        candidate['race'] = race\n",
    "        data.append(candidate)\n",
    "    \n",
    "    return data"
   ]
  },
  {
   "cell_type": "code",
   "execution_count": 35,
   "metadata": {},
   "outputs": [],
   "source": [
    "candidateDF = []\n",
    "for race in listOfRaces:\n",
    "    page = requests.get(race)\n",
    "    soup = BeautifulSoup(page.content, 'html.parser')\n",
    "\n",
    "    candidateList = soup.find('div', {'class': 'candidate-list-group', 'id': 'State'}).findAll('div', {'class': 'candidatelist-div'})\n",
    "    candidates = [candidate for sublist in [extractAllCandidates(html) for html in candidateList] for candidate in sublist]\n",
    "\n",
    "    candidateDF.append(pd.concat([pd.DataFrame(x, index=[x['candidate_id'], ]) for x in candidates]))"
   ]
  },
  {
   "cell_type": "code",
   "execution_count": 36,
   "metadata": {},
   "outputs": [],
   "source": [
    "allCandidates = pd.concat(candidateDF)\n",
    "allCandidates.to_pickle('../data/allCandidates.pkl')"
   ]
  }
 ],
 "metadata": {
  "kernelspec": {
   "display_name": "Python 3",
   "language": "python",
   "name": "python3"
  },
  "language_info": {
   "codemirror_mode": {
    "name": "ipython",
    "version": 3
   },
   "file_extension": ".py",
   "mimetype": "text/x-python",
   "name": "python",
   "nbconvert_exporter": "python",
   "pygments_lexer": "ipython3",
   "version": "3.7.0"
  }
 },
 "nbformat": 4,
 "nbformat_minor": 2
}
